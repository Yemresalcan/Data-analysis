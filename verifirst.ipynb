{
 "cells": [
  {
   "cell_type": "code",
   "execution_count": 4,
   "metadata": {},
   "outputs": [],
   "source": [
    "#1- Bir listeyi düzleştiren (flatten) fonksiyon yazın. Elemanları birden çok katmanlı listelerden ([[3],2] gibi) oluşabileceği gibi, non-scalar verilerden de oluşabilir. Örnek olarak:\n",
    "\n",
    "def flatten(lst):\n",
    "    result = []\n",
    "    for item in lst:\n",
    "        if isinstance(item, list):\n",
    "            result.extend(flatten(item))\n",
    "        else:\n",
    "            result.append(item)\n",
    "    return result\n",
    "\n",
    "#Bu fonksiyon, verilen listedeki her elemanın bir liste olup olmadığını kontrol eder. Eğer eleman bir liste ise, bu alt listeyi düzleştirmek için flatten fonksiyonunu tekrar çağırır. Eğer eleman bir liste değilse, o elemanı sonuç listesine ekler. Sonuç olarak, düzleştirilmiş bir liste döndürür.\n",
    "\n",
    "#2- Verilen listenin içindeki elemanları tersine döndüren bir fonksiyon yazın. Eğer listenin içindeki elemanlar da liste içeriyorsa onların elemanlarını da tersine döndürün. Örnek olarak:\n",
    "\n",
    "def reverse_list(lst):\n",
    "    reversed_lst = lst[::-1]\n",
    "    for i in range(len(reversed_lst)):\n",
    "        if isinstance(reversed_lst[i], list):\n",
    "            reversed_lst[i] = reverse_list(reversed_lst[i])\n",
    "    return reversed_lst\n",
    "\n",
    "\n",
    "#Bu fonksiyon, öncelikle verilen listenin elemanlarını ters çevirir. Daha sonra, her elemanın bir liste olup olmadığını kontrol eder. Eğer eleman bir liste ise, bu alt listeyi ters çevirmek için reverse_list fonksiyonunu tekrar çağırır. Eğer eleman bir liste değilse, o elemanı olduğu gibi bırakır. Sonuç olarak, listenin tamamen ters çevrilmiş hali döndürülür."
   ]
  }
 ],
 "metadata": {
  "kernelspec": {
   "display_name": "Python 3",
   "language": "python",
   "name": "python3"
  },
  "language_info": {
   "codemirror_mode": {
    "name": "ipython",
    "version": 3
   },
   "file_extension": ".py",
   "mimetype": "text/x-python",
   "name": "python",
   "nbconvert_exporter": "python",
   "pygments_lexer": "ipython3",
   "version": "3.10.10"
  },
  "orig_nbformat": 4
 },
 "nbformat": 4,
 "nbformat_minor": 2
}
