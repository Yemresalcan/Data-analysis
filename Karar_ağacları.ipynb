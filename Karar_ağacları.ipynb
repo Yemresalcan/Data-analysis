{
  "nbformat": 4,
  "nbformat_minor": 0,
  "metadata": {
    "colab": {
      "provenance": [],
      "toc_visible": true,
      "authorship_tag": "ABX9TyPIB3h0Z3D1Re92nU6gCPP8"
    },
    "kernelspec": {
      "name": "python3",
      "display_name": "Python 3"
    },
    "language_info": {
      "name": "python"
    }
  },
  "cells": [
    {
      "cell_type": "markdown",
      "source": [
        "**`KARAR AĞAÇLARI Random Forest  `**"
      ],
      "metadata": {
        "id": "UbX2CVkzmB1E"
      }
    },
    {
      "cell_type": "code",
      "execution_count": null,
      "metadata": {
        "id": "2B2FQYVQl-eX"
      },
      "outputs": [],
      "source": [
        "#Rastgele orman algoritması birden fazla karar ağacının bir araya getirilmesiyle oluşan bir makine öğrenmesi modelidir"
      ]
    },
    {
      "cell_type": "code",
      "source": [
        "import warnings\n",
        "warnings.filterwarnings(\"ignore\")\n",
        "#veri seti amerikada yaşayan insanların maaş sıkalasını göstermektedir\n",
        "import pandas as pd\n",
        "url = 'https://archive.ics.uci.edu/ml/machine-learning-databases/adult/adult.data'\n",
        "columns = ['yas', 'is_turu', 'gozlem_sayisi', 'egitim', 'egitim_seviyesi',\n",
        "           'evlilik_durum', 'meslek','iliski_durum', 'irk', 'cinsiyet',\n",
        "           'sermaye_kazani', 'sermaye_kaybi', 'haftalik_calisma_saati',\n",
        "           'anavatani', 'gelir']\n",
        "df = pd.read_csv(url, header=None, names=columns)\n",
        "\n",
        "df.info()\n"
      ],
      "metadata": {
        "colab": {
          "base_uri": "https://localhost:8080/"
        },
        "id": "FXN5Tt5ZnlOv",
        "outputId": "fc8ddf28-75a5-4d39-e280-a0d96b57f174"
      },
      "execution_count": null,
      "outputs": [
        {
          "output_type": "stream",
          "name": "stdout",
          "text": [
            "<class 'pandas.core.frame.DataFrame'>\n",
            "RangeIndex: 32561 entries, 0 to 32560\n",
            "Data columns (total 15 columns):\n",
            " #   Column                  Non-Null Count  Dtype \n",
            "---  ------                  --------------  ----- \n",
            " 0   yas                     32561 non-null  int64 \n",
            " 1   is_turu                 32561 non-null  object\n",
            " 2   gozlem_sayisi           32561 non-null  int64 \n",
            " 3   egitim                  32561 non-null  object\n",
            " 4   egitim_seviyesi         32561 non-null  int64 \n",
            " 5   evlilik_durum           32561 non-null  object\n",
            " 6   meslek                  32561 non-null  object\n",
            " 7   iliski_durum            32561 non-null  object\n",
            " 8   irk                     32561 non-null  object\n",
            " 9   cinsiyet                32561 non-null  object\n",
            " 10  sermaye_kazani          32561 non-null  int64 \n",
            " 11  sermaye_kaybi           32561 non-null  int64 \n",
            " 12  haftalik_calisma_saati  32561 non-null  int64 \n",
            " 13  anavatani               32561 non-null  object\n",
            " 14  gelir                   32561 non-null  object\n",
            "dtypes: int64(6), object(9)\n",
            "memory usage: 3.7+ MB\n"
          ]
        }
      ]
    },
    {
      "cell_type": "code",
      "source": [
        "print(df.describe())"
      ],
      "metadata": {
        "colab": {
          "base_uri": "https://localhost:8080/"
        },
        "id": "tXyK7NcUpiMA",
        "outputId": "b2964086-ca07-4e39-c7f9-394be54fe691"
      },
      "execution_count": null,
      "outputs": [
        {
          "output_type": "stream",
          "name": "stdout",
          "text": [
            "                yas  gozlem_sayisi  egitim_seviyesi  sermaye_kazani  \\\n",
            "count  32561.000000   3.256100e+04     32561.000000    32561.000000   \n",
            "mean      38.581647   1.897784e+05        10.080679     1077.648844   \n",
            "std       13.640433   1.055500e+05         2.572720     7385.292085   \n",
            "min       17.000000   1.228500e+04         1.000000        0.000000   \n",
            "25%       28.000000   1.178270e+05         9.000000        0.000000   \n",
            "50%       37.000000   1.783560e+05        10.000000        0.000000   \n",
            "75%       48.000000   2.370510e+05        12.000000        0.000000   \n",
            "max       90.000000   1.484705e+06        16.000000    99999.000000   \n",
            "\n",
            "       sermaye_kaybi  haftalik_calisma_saati  \n",
            "count   32561.000000            32561.000000  \n",
            "mean       87.303830               40.437456  \n",
            "std       402.960219               12.347429  \n",
            "min         0.000000                1.000000  \n",
            "25%         0.000000               40.000000  \n",
            "50%         0.000000               40.000000  \n",
            "75%         0.000000               45.000000  \n",
            "max      4356.000000               99.000000  \n"
          ]
        }
      ]
    },
    {
      "cell_type": "code",
      "source": [
        "import seaborn as sns\n",
        "sns.countplot(x='gelir', hue='cinsiyet',data=df)\n",
        "#kadınlarda 1/10 daha az maaş alyor erkekler 1/7 si daha fazla mmaaş alyor"
      ],
      "metadata": {
        "colab": {
          "base_uri": "https://localhost:8080/",
          "height": 467
        },
        "id": "wsE2Oxc9ptFX",
        "outputId": "6aca7d35-21ca-4dc4-ad6c-69d785c1e36b"
      },
      "execution_count": null,
      "outputs": [
        {
          "output_type": "execute_result",
          "data": {
            "text/plain": [
              "<Axes: xlabel='gelir', ylabel='count'>"
            ]
          },
          "metadata": {},
          "execution_count": 4
        },
        {
          "output_type": "display_data",
          "data": {
            "text/plain": [
              "<Figure size 640x480 with 1 Axes>"
            ],
            "image/png": "[encoded data removed]"
          },
          "metadata": {}
        }
      ]
    },
    {
      "cell_type": "code",
      "source": [
        "df['gelir']=df['gelir'].apply(lambda x: 1 if x == ' >50K' else 0)\n",
        "dummies= pd.get_dummies(df, columns=['is_turu', 'egitim', 'evlilik_durum', 'meslek',\n",
        "                                 'iliski_durum', 'irk', 'cinsiyet', 'anavatani'])\n",
        "\n",
        "\n",
        "print(dummies)\n",
        "print(df.head())\n",
        "\n",
        "#dumy değişkenler olulturulur ve yazılır 50k üstü sayılar için 0 ve 1 değişkenlerini alır"
      ],
      "metadata": {
        "colab": {
          "base_uri": "https://localhost:8080/"
        },
        "id": "bpgt03pvqStU",
        "outputId": "ca398bd2-7ace-4dfb-da5e-082868906c74"
      },
      "execution_count": null,
      "outputs": [
        {
          "output_type": "stream",
          "name": "stdout",
          "text": [
            "       yas  gozlem_sayisi  egitim_seviyesi  sermaye_kazani  sermaye_kaybi  \\\n",
            "0       39          77516               13            2174              0   \n",
            "1       50          83311               13               0              0   \n",
            "2       38         215646                9               0              0   \n",
            "3       53         234721                7               0              0   \n",
            "4       28         338409               13               0              0   \n",
            "...    ...            ...              ...             ...            ...   \n",
            "32556   27         257302               12               0              0   \n",
            "32557   40         154374                9               0              0   \n",
            "32558   58         151910                9               0              0   \n",
            "32559   22         201490                9               0              0   \n",
            "32560   52         287927                9           15024              0   \n",
            "\n",
            "       haftalik_calisma_saati  gelir  is_turu_ ?  is_turu_ Federal-gov  \\\n",
            "0                          40      0           0                     0   \n",
            "1                          13      0           0                     0   \n",
            "2                          40      0           0                     0   \n",
            "3                          40      0           0                     0   \n",
            "4                          40      0           0                     0   \n",
            "...                       ...    ...         ...                   ...   \n",
            "32556                      38      0           0                     0   \n",
            "32557                      40      1           0                     0   \n",
            "32558                      40      0           0                     0   \n",
            "32559                      20      0           0                     0   \n",
            "32560                      40      1           0                     0   \n",
            "\n",
            "       is_turu_ Local-gov  ...  anavatani_ Portugal  anavatani_ Puerto-Rico  \\\n",
            "0                       0  ...                    0                       0   \n",
            "1                       0  ...                    0                       0   \n",
            "2                       0  ...                    0                       0   \n",
            "3                       0  ...                    0                       0   \n",
            "4                       0  ...                    0                       0   \n",
            "...                   ...  ...                  ...                     ...   \n",
            "32556                   0  ...                    0                       0   \n",
            "32557                   0  ...                    0                       0   \n",
            "32558                   0  ...                    0                       0   \n",
            "32559                   0  ...                    0                       0   \n",
            "32560                   0  ...                    0                       0   \n",
            "\n",
            "       anavatani_ Scotland  anavatani_ South  anavatani_ Taiwan  \\\n",
            "0                        0                 0                  0   \n",
            "1                        0                 0                  0   \n",
            "2                        0                 0                  0   \n",
            "3                        0                 0                  0   \n",
            "4                        0                 0                  0   \n",
            "...                    ...               ...                ...   \n",
            "32556                    0                 0                  0   \n",
            "32557                    0                 0                  0   \n",
            "32558                    0                 0                  0   \n",
            "32559                    0                 0                  0   \n",
            "32560                    0                 0                  0   \n",
            "\n",
            "       anavatani_ Thailand  anavatani_ Trinadad&Tobago  \\\n",
            "0                        0                           0   \n",
            "1                        0                           0   \n",
            "2                        0                           0   \n",
            "3                        0                           0   \n",
            "4                        0                           0   \n",
            "...                    ...                         ...   \n",
            "32556                    0                           0   \n",
            "32557                    0                           0   \n",
            "32558                    0                           0   \n",
            "32559                    0                           0   \n",
            "32560                    0                           0   \n",
            "\n",
            "       anavatani_ United-States  anavatani_ Vietnam  anavatani_ Yugoslavia  \n",
            "0                             1                   0                      0  \n",
            "1                             1                   0                      0  \n",
            "2                             1                   0                      0  \n",
            "3                             1                   0                      0  \n",
            "4                             0                   0                      0  \n",
            "...                         ...                 ...                    ...  \n",
            "32556                         1                   0                      0  \n",
            "32557                         1                   0                      0  \n",
            "32558                         1                   0                      0  \n",
            "32559                         1                   0                      0  \n",
            "32560                         1                   0                      0  \n",
            "\n",
            "[32561 rows x 109 columns]\n",
            "   yas            is_turu  gozlem_sayisi      egitim  egitim_seviyesi  \\\n",
            "0   39          State-gov          77516   Bachelors               13   \n",
            "1   50   Self-emp-not-inc          83311   Bachelors               13   \n",
            "2   38            Private         215646     HS-grad                9   \n",
            "3   53            Private         234721        11th                7   \n",
            "4   28            Private         338409   Bachelors               13   \n",
            "\n",
            "         evlilik_durum              meslek    iliski_durum     irk cinsiyet  \\\n",
            "0        Never-married        Adm-clerical   Not-in-family   White     Male   \n",
            "1   Married-civ-spouse     Exec-managerial         Husband   White     Male   \n",
            "2             Divorced   Handlers-cleaners   Not-in-family   White     Male   \n",
            "3   Married-civ-spouse   Handlers-cleaners         Husband   Black     Male   \n",
            "4   Married-civ-spouse      Prof-specialty            Wife   Black   Female   \n",
            "\n",
            "   sermaye_kazani  sermaye_kaybi  haftalik_calisma_saati       anavatani  \\\n",
            "0            2174              0                      40   United-States   \n",
            "1               0              0                      13   United-States   \n",
            "2               0              0                      40   United-States   \n",
            "3               0              0                      40   United-States   \n",
            "4               0              0                      40            Cuba   \n",
            "\n",
            "   gelir  \n",
            "0      0  \n",
            "1      0  \n",
            "2      0  \n",
            "3      0  \n",
            "4      0  \n"
          ]
        }
      ]
    },
    {
      "cell_type": "code",
      "source": [
        "#Verileri dumy değilşkenlerle doldurduktan sonra eski verileri dropluyoruz\n",
        "y = df['gelir']\n",
        "df = pd.concat([df, dummies], axis=1)\n",
        "df = df.drop(['is_turu', 'egitim', 'evlilik_durum', 'meslek',\n",
        "              'iliski_durum', 'irk', 'cinsiyet', 'anavatani'], axis=1)\n",
        "X = df.drop('gelir', axis=1)\n",
        "print(\"Özellikler:\\n \", X.head())\n",
        "print(\"*********\")\n",
        "print(\"Hedef     :\\n\", y.head())"
      ],
      "metadata": {
        "colab": {
          "base_uri": "https://localhost:8080/"
        },
        "id": "7pJdE6VTrCPn",
        "outputId": "10080746-57b3-46ac-c673-131d67a518ff"
      },
      "execution_count": null,
      "outputs": [
        {
          "output_type": "stream",
          "name": "stdout",
          "text": [
            "Özellikler:\n",
            "     yas  gozlem_sayisi  egitim_seviyesi  sermaye_kazani  sermaye_kaybi  \\\n",
            "0   39          77516               13            2174              0   \n",
            "1   50          83311               13               0              0   \n",
            "2   38         215646                9               0              0   \n",
            "3   53         234721                7               0              0   \n",
            "4   28         338409               13               0              0   \n",
            "\n",
            "   haftalik_calisma_saati  yas  gozlem_sayisi  egitim_seviyesi  \\\n",
            "0                      40   39          77516               13   \n",
            "1                      13   50          83311               13   \n",
            "2                      40   38         215646                9   \n",
            "3                      40   53         234721                7   \n",
            "4                      40   28         338409               13   \n",
            "\n",
            "   sermaye_kazani  ...  anavatani_ Portugal  anavatani_ Puerto-Rico  \\\n",
            "0            2174  ...                    0                       0   \n",
            "1               0  ...                    0                       0   \n",
            "2               0  ...                    0                       0   \n",
            "3               0  ...                    0                       0   \n",
            "4               0  ...                    0                       0   \n",
            "\n",
            "   anavatani_ Scotland  anavatani_ South  anavatani_ Taiwan  \\\n",
            "0                    0                 0                  0   \n",
            "1                    0                 0                  0   \n",
            "2                    0                 0                  0   \n",
            "3                    0                 0                  0   \n",
            "4                    0                 0                  0   \n",
            "\n",
            "   anavatani_ Thailand  anavatani_ Trinadad&Tobago  anavatani_ United-States  \\\n",
            "0                    0                           0                         1   \n",
            "1                    0                           0                         1   \n",
            "2                    0                           0                         1   \n",
            "3                    0                           0                         1   \n",
            "4                    0                           0                         0   \n",
            "\n",
            "   anavatani_ Vietnam  anavatani_ Yugoslavia  \n",
            "0                   0                      0  \n",
            "1                   0                      0  \n",
            "2                   0                      0  \n",
            "3                   0                      0  \n",
            "4                   0                      0  \n",
            "\n",
            "[5 rows x 114 columns]\n",
            "*********\n",
            "Hedef     :\n",
            " 0    0\n",
            "1    0\n",
            "2    0\n",
            "3    0\n",
            "4    0\n",
            "Name: gelir, dtype: int64\n"
          ]
        }
      ]
    },
    {
      "cell_type": "code",
      "source": [
        "from sklearn.model_selection import train_test_split\n",
        "X_train, X_test, y_train, y_test = train_test_split(X, y, test_size=0.2, random_state=6)"
      ],
      "metadata": {
        "id": "I2qiuRWGs3IP"
      },
      "execution_count": null,
      "outputs": []
    },
    {
      "cell_type": "code",
      "source": [
        "#Model seçme\n",
        "from sklearn.ensemble import RandomForestClassifier\n",
        "from sklearn.model_selection import GridSearchCV\n",
        "rf = RandomForestClassifier(random_state=42)\n",
        "params = {'n_estimators': [100, 200, 500], 'max_depth': [10, 20, 30]}\n",
        "grid = GridSearchCV(rf, params, cv=5, scoring='accuracy')\n",
        "#Modeli Eğitme\n",
        "grid.fit(X, y)"
      ],
      "metadata": {
        "colab": {
          "base_uri": "https://localhost:8080/",
          "height": 117
        },
        "id": "Q7G9zjGaviAd",
        "outputId": "89c3371a-e725-41b4-cfd9-693dabc195bc"
      },
      "execution_count": null,
      "outputs": [
        {
          "output_type": "execute_result",
          "data": {
            "text/plain": [
              "GridSearchCV(cv=5, estimator=RandomForestClassifier(random_state=42),\n",
              "             param_grid={'max_depth': [10, 20, 30],\n",
              "                         'n_estimators': [100, 200, 500]},\n",
              "             scoring='accuracy')"
            ],
            "text/html": [
              "<style>#sk-container-id-1 {color: black;background-color: white;}#sk-container-id-1 pre{padding: 0;}#sk-container-id-1 div.sk-toggleable {background-color: white;}#sk-container-id-1 label.sk-toggleable__label {cursor: pointer;display: block;width: 100%;margin-bottom: 0;padding: 0.3em;box-sizing: border-box;text-align: center;}#sk-container-id-1 label.sk-toggleable__label-arrow:before {content: \"▸\";float: left;margin-right: 0.25em;color: #696969;}#sk-container-id-1 label.sk-toggleable__label-arrow:hover:before {color: black;}#sk-container-id-1 div.sk-estimator:hover label.sk-toggleable__label-arrow:before {color: black;}#sk-container-id-1 div.sk-toggleable__content {max-height: 0;max-width: 0;overflow: hidden;text-align: left;background-color: #f0f8ff;}#sk-container-id-1 div.sk-toggleable__content pre {margin: 0.2em;color: black;border-radius: 0.25em;background-color: #f0f8ff;}#sk-container-id-1 input.sk-toggleable__control:checked~div.sk-toggleable__content {max-height: 200px;max-width: 100%;overflow: auto;}#sk-container-id-1 input.sk-toggleable__control:checked~label.sk-toggleable__label-arrow:before {content: \"▾\";}#sk-container-id-1 div.sk-estimator input.sk-toggleable__control:checked~label.sk-toggleable__label {background-color: #d4ebff;}#sk-container-id-1 div.sk-label input.sk-toggleable__control:checked~label.sk-toggleable__label {background-color: #d4ebff;}#sk-container-id-1 input.sk-hidden--visually {border: 0;clip: rect(1px 1px 1px 1px);clip: rect(1px, 1px, 1px, 1px);height: 1px;margin: -1px;overflow: hidden;padding: 0;position: absolute;width: 1px;}#sk-container-id-1 div.sk-estimator {font-family: monospace;background-color: #f0f8ff;border: 1px dotted black;border-radius: 0.25em;box-sizing: border-box;margin-bottom: 0.5em;}#sk-container-id-1 div.sk-estimator:hover {background-color: #d4ebff;}#sk-container-id-1 div.sk-parallel-item::after {content: \"\";width: 100%;border-bottom: 1px solid gray;flex-grow: 1;}#sk-container-id-1 div.sk-label:hover label.sk-toggleable__label {background-color: #d4ebff;}#sk-container-id-1 div.sk-serial::before {content: \"\";position: absolute;border-left: 1px solid gray;box-sizing: border-box;top: 0;bottom: 0;left: 50%;z-index: 0;}#sk-container-id-1 div.sk-serial {display: flex;flex-direction: column;align-items: center;background-color: white;padding-right: 0.2em;padding-left: 0.2em;position: relative;}#sk-container-id-1 div.sk-item {position: relative;z-index: 1;}#sk-container-id-1 div.sk-parallel {display: flex;align-items: stretch;justify-content: center;background-color: white;position: relative;}#sk-container-id-1 div.sk-item::before, #sk-container-id-1 div.sk-parallel-item::before {content: \"\";position: absolute;border-left: 1px solid gray;box-sizing: border-box;top: 0;bottom: 0;left: 50%;z-index: -1;}#sk-container-id-1 div.sk-parallel-item {display: flex;flex-direction: column;z-index: 1;position: relative;background-color: white;}#sk-container-id-1 div.sk-parallel-item:first-child::after {align-self: flex-end;width: 50%;}#sk-container-id-1 div.sk-parallel-item:last-child::after {align-self: flex-start;width: 50%;}#sk-container-id-1 div.sk-parallel-item:only-child::after {width: 0;}#sk-container-id-1 div.sk-dashed-wrapped {border: 1px dashed gray;margin: 0 0.4em 0.5em 0.4em;box-sizing: border-box;padding-bottom: 0.4em;background-color: white;}#sk-container-id-1 div.sk-label label {font-family: monospace;font-weight: bold;display: inline-block;line-height: 1.2em;}#sk-container-id-1 div.sk-label-container {text-align: center;}#sk-container-id-1 div.sk-container {/* jupyter's `normalize.less` sets `[hidden] { display: none; }` but bootstrap.min.css set `[hidden] { display: none !important; }` so we also need the `!important` here to be able to override the default hidden behavior on the sphinx rendered scikit-learn.org. See: https://github.com/scikit-learn/scikit-learn/issues/21755 */display: inline-block !important;position: relative;}#sk-container-id-1 div.sk-text-repr-fallback {display: none;}</style><div id=\"sk-container-id-1\" class=\"sk-top-container\"><div class=\"sk-text-repr-fallback\"><pre>GridSearchCV(cv=5, estimator=RandomForestClassifier(random_state=42),\n",
              "             param_grid={&#x27;max_depth&#x27;: [10, 20, 30],\n",
              "                         &#x27;n_estimators&#x27;: [100, 200, 500]},\n",
              "             scoring=&#x27;accuracy&#x27;)</pre><b>In a Jupyter environment, please rerun this cell to show the HTML representation or trust the notebook. <br />On GitHub, the HTML representation is unable to render, please try loading this page with nbviewer.org.</b></div><div class=\"sk-container\" hidden><div class=\"sk-item sk-dashed-wrapped\"><div class=\"sk-label-container\"><div class=\"sk-label sk-toggleable\"><input class=\"sk-toggleable__control sk-hidden--visually\" id=\"sk-estimator-id-1\" type=\"checkbox\" ><label for=\"sk-estimator-id-1\" class=\"sk-toggleable__label sk-toggleable__label-arrow\">GridSearchCV</label><div class=\"sk-toggleable__content\"><pre>GridSearchCV(cv=5, estimator=RandomForestClassifier(random_state=42),\n",
              "             param_grid={&#x27;max_depth&#x27;: [10, 20, 30],\n",
              "                         &#x27;n_estimators&#x27;: [100, 200, 500]},\n",
              "             scoring=&#x27;accuracy&#x27;)</pre></div></div></div><div class=\"sk-parallel\"><div class=\"sk-parallel-item\"><div class=\"sk-item\"><div class=\"sk-label-container\"><div class=\"sk-label sk-toggleable\"><input class=\"sk-toggleable__control sk-hidden--visually\" id=\"sk-estimator-id-2\" type=\"checkbox\" ><label for=\"sk-estimator-id-2\" class=\"sk-toggleable__label sk-toggleable__label-arrow\">estimator: RandomForestClassifier</label><div class=\"sk-toggleable__content\"><pre>RandomForestClassifier(random_state=42)</pre></div></div></div><div class=\"sk-serial\"><div class=\"sk-item\"><div class=\"sk-estimator sk-toggleable\"><input class=\"sk-toggleable__control sk-hidden--visually\" id=\"sk-estimator-id-3\" type=\"checkbox\" ><label for=\"sk-estimator-id-3\" class=\"sk-toggleable__label sk-toggleable__label-arrow\">RandomForestClassifier</label><div class=\"sk-toggleable__content\"><pre>RandomForestClassifier(random_state=42)</pre></div></div></div></div></div></div></div></div></div></div>"
            ]
          },
          "metadata": {},
          "execution_count": 12
        }
      ]
    },
    {
      "cell_type": "code",
      "source": [
        "print(\"En iyi parametreler: \", grid.best_params_)\n",
        "best_rf = grid.best_estimator_\n"
      ],
      "metadata": {
        "colab": {
          "base_uri": "https://localhost:8080/"
        },
        "id": "OQQZRux1v1SM",
        "outputId": "0fc6f48a-5312-4f6a-d22c-85c3a50d8cec"
      },
      "execution_count": null,
      "outputs": [
        {
          "output_type": "stream",
          "name": "stdout",
          "text": [
            "En iyi parametreler:  {'max_depth': 20, 'n_estimators': 200}\n"
          ]
        }
      ]
    },
    {
      "cell_type": "code",
      "source": [
        "print(\"----------------------------------------------------------------\")\n",
        "print(\"Eğitim verisi için doğruluk :\", best_rf.score(X_train, y_train))\n",
        "print(\"----------------------------------------------------------------\")\n",
        "print(\"Test verisi için doğruluk   :\", best_rf.score(X_test, y_test))"
      ],
      "metadata": {
        "id": "hPqXX2MvzQ7I",
        "outputId": "4c0db13a-9a5f-40ee-cec4-064fdc0d18ee",
        "colab": {
          "base_uri": "https://localhost:8080/"
        }
      },
      "execution_count": null,
      "outputs": [
        {
          "output_type": "stream",
          "name": "stdout",
          "text": [
            "----------------------------------------------------------------\n",
            "Eğitim verisi için doğruluk : 0.925406941031941\n",
            "----------------------------------------------------------------\n",
            "Test verisi için doğruluk   : 0.9335175802241671\n"
          ]
        }
      ]
    },
    {
      "cell_type": "code",
      "source": [
        "import seaborn as sns\n",
        "import matplotlib.pyplot as plt\n",
        "from sklearn.metrics import confusion_matrix\n",
        "# Confusion matrisini hesaplama\n",
        "y_pred = best_rf.predict(X_test)\n",
        "cm = confusion_matrix(y_test, y_pred)\n",
        "# Confusion matrisini görselleştirme\n",
        "fig, ax = plt.subplots(figsize=(8, 6))\n",
        "sns.heatmap(cm, annot=True, cmap='Blues', ax=ax, fmt='d', annot_kws={\"size\": 12})\n",
        "ax.set_xlabel('Tahmin Edilen Sınıf', fontsize=14)\n",
        "ax.set_ylabel('Gerçek Sınıf', fontsize=14)\n",
        "ax.set_title('Confusion Matrisi', fontsize=16)\n",
        "plt.show()\n"
      ],
      "metadata": {
        "colab": {
          "base_uri": "https://localhost:8080/",
          "height": 571
        },
        "id": "yf_KcmvBv4UL",
        "outputId": "3f8189cf-2210-4d0a-835c-d77d4a6ca1ef"
      },
      "execution_count": null,
      "outputs": [
        {
          "output_type": "display_data",
          "data": {
            "text/plain": [
              "<Figure size 800x600 with 2 Axes>"
            ],
            "image/png": "[encoded data removed]"
          },
          "metadata": {}
        }
      ]
    }
  ]
}