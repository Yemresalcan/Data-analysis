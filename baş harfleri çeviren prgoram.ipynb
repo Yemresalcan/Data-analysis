{
  "nbformat": 4,
  "nbformat_minor": 0,
  "metadata": {
    "colab": {
      "provenance": [],
      "authorship_tag": "ABX9TyMkmdrllef0bnAQytRME+BP",
      "include_colab_link": true
    },
    "kernelspec": {
      "name": "python3",
      "display_name": "Python 3"
    },
    "language_info": {
      "name": "python"
    }
  },
  "cells": [
    {
      "cell_type": "markdown",
      "metadata": {
        "id": "view-in-github",
        "colab_type": "text"
      },
      "source": [
        "<a href=\"https://colab.research.google.com/github/Yemresalcan/Data-analysis/blob/master/ba%C5%9F%20harfleri%20%C3%A7eviren%20prgoram.ipynb\" target=\"_parent\"><img src=\"https://colab.research.google.com/assets/colab-badge.svg\" alt=\"Open In Colab\"/></a>"
      ]
    },
    {
      "cell_type": "code",
      "source": [
        "import pandas as pd\n",
        "\n",
        "# Excel dosyasını yükle\n",
        "df = pd.read_csv('/content/veriler.csv')\n",
        "\n",
        "# Baş harfi büyük yapmak istediğiniz sütunun adını belirtin\n",
        "hedef_sutun = \"Name\"  # Sütun adını değiştirin\n",
        "\n",
        "# Sütundaki her öğenin baş harfini büyük yapın, diğer harfleri küçük tutun\n",
        "df[hedef_sutun] = df[hedef_sutun].str.capitalize()\n",
        "\n",
        "# Yeni bir Excel dosyası oluşturun\n",
        "yeni_excel_dosya_adi = \"yeni_veriler.xlsx\"  # Yeni dosya adını değiştirin\n",
        "df.to_excel(yeni_excel_dosya_adi, index=False)\n",
        "\n",
        "# Verileri düzenlenmiş yeni dosyayı indirmek için gerekli kod buraya eklenebilir\n",
        "# Örneğin, bir HTTP sunucusuna yükleyebilir ve kullanıcıya indirme bağlantısını sağlayabilirsiniz.\n",
        "\n",
        "print(\"Veriler düzeltildi ve yeni dosya oluşturuldu: Baş harfi büyük, diğer harfler küçük.\")\n"
      ],
      "metadata": {
        "colab": {
          "base_uri": "https://localhost:8080/"
        },
        "id": "PHgMRkF0wLVV",
        "outputId": "7e3b7ade-1d75-404e-8d95-73aebc5af371"
      },
      "execution_count": 6,
      "outputs": [
        {
          "output_type": "stream",
          "name": "stdout",
          "text": [
            "Veriler düzeltildi ve yeni dosya oluşturuldu: Baş harfi büyük, diğer harfler küçük.\n"
          ]
        }
      ]
    }
  ]
}